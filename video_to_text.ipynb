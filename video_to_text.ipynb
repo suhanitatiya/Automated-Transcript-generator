{
  "nbformat": 4,
  "nbformat_minor": 0,
  "metadata": {
    "colab": {
      "provenance": [],
      "gpuType": "T4",
      "include_colab_link": true
    },
    "kernelspec": {
      "name": "python3",
      "display_name": "Python 3"
    },
    "language_info": {
      "name": "python"
    },
    "accelerator": "GPU"
  },
  "cells": [
    {
      "cell_type": "markdown",
      "metadata": {
        "id": "view-in-github",
        "colab_type": "text"
      },
      "source": [
        "<a href=\"https://colab.research.google.com/github/suhanitatiya/Automated-Transcript-generator/blob/main/video_to_text.ipynb\" target=\"_parent\"><img src=\"https://colab.research.google.com/assets/colab-badge.svg\" alt=\"Open In Colab\"/></a>"
      ]
    },
    {
      "cell_type": "markdown",
      "source": [
        "Create a new folder in your drive named \"Video_to_text\" in the root directory to save the outputs of the videos."
      ],
      "metadata": {
        "id": "6vt6UpcIVQCy"
      }
    },
    {
      "cell_type": "markdown",
      "source": [
        "Please make sure to mount drive first. Click on the folder icon on the sidebar and select \"Mount Drive\". <br>\n",
        "OR <br>\n",
        "Please run the following code cell and continue to next steps."
      ],
      "metadata": {
        "id": "X3kUXexOSrKS"
      }
    },
    {
      "cell_type": "code",
      "source": [
        "from google.colab import drive\n",
        "drive.mount('/content/drive')"
      ],
      "metadata": {
        "id": "mW1lm6klTGdj"
      },
      "execution_count": null,
      "outputs": []
    },
    {
      "cell_type": "code",
      "execution_count": null,
      "metadata": {
        "id": "SbJOjNA-MdaX"
      },
      "outputs": [],
      "source": [
        "!apt-get install ffmpeg"
      ]
    },
    {
      "cell_type": "code",
      "source": [
        "# necessary requirements :\n",
        "# moviepy : extract audio from video\n",
        "# whisper : ASR\n",
        "# gdown : download files from Google drive\n",
        "!pip install moviepy openai-whisper gdown"
      ],
      "metadata": {
        "id": "o-4kGhzeMwZZ"
      },
      "execution_count": null,
      "outputs": []
    },
    {
      "cell_type": "code",
      "source": [
        "import os\n",
        "import moviepy.editor as mp\n",
        "import whisper\n",
        "import gdown"
      ],
      "metadata": {
        "id": "RSfUzcSSM6MX"
      },
      "execution_count": null,
      "outputs": []
    },
    {
      "cell_type": "markdown",
      "source": [
        "Insert the video links below.<br>\n",
        "Please make sure you have set the access to the links as \"Anyone with the link\"."
      ],
      "metadata": {
        "id": "FWdigXzOUCdv"
      }
    },
    {
      "cell_type": "code",
      "source": [
        "video_links = [\n",
        "    \"https://drive.google.com/file/d/1tai6Jch97ywaDYUfjdPf9fk_eFeqfFp8/view?usp=sharing\"\n",
        "    ]"
      ],
      "metadata": {
        "id": "4NV4p-ItNWi0"
      },
      "execution_count": null,
      "outputs": []
    },
    {
      "cell_type": "markdown",
      "source": [
        "Insert the path to the directory on the drive where you would like to save the outputs."
      ],
      "metadata": {
        "id": "YOIV3weTTzoG"
      }
    },
    {
      "cell_type": "code",
      "source": [
        "DRIVE_OUTPUTS_DIR = \"/content/drive/MyDrive/Video_to_text\""
      ],
      "metadata": {
        "id": "DCyVqxCtQ-c8"
      },
      "execution_count": null,
      "outputs": []
    },
    {
      "cell_type": "code",
      "source": [
        "ASR_MODEL_NAME = \"small\"             # available models(increasing complexity): \"tiny\", \"base\", \"small\", \"medium\", \"large\"\n",
        "OUTPUTS_DIR_NAME = \"outputs\"         # Directory to save the text files"
      ],
      "metadata": {
        "id": "ourcqliKNFqh"
      },
      "execution_count": null,
      "outputs": []
    },
    {
      "cell_type": "code",
      "source": [
        "OUTPUTS_DIR = os.path.join(DRIVE_OUTPUTS_DIR, OUTPUTS_DIR_NAME)"
      ],
      "metadata": {
        "id": "z0jJ8cC9Q6ng"
      },
      "execution_count": null,
      "outputs": []
    },
    {
      "cell_type": "code",
      "source": [
        "video_paths = []"
      ],
      "metadata": {
        "id": "UHjSN0LbQHzl"
      },
      "execution_count": null,
      "outputs": []
    },
    {
      "cell_type": "code",
      "source": [
        "for url in video_links:\n",
        "  v_path = gdown.download(url, fuzzy=True)\n",
        "  video_paths.append(v_path)"
      ],
      "metadata": {
        "id": "G9POrApyOquN"
      },
      "execution_count": null,
      "outputs": []
    },
    {
      "cell_type": "code",
      "source": [
        "def convert_video_to_audio(video_path, audio_path):\n",
        "    \"\"\"Converts a video file to an audio file.\"\"\"\n",
        "    video = mp.VideoFileClip(video_path)\n",
        "    video.audio.write_audiofile(audio_path)\n"
      ],
      "metadata": {
        "id": "7GRT3ocNNJ6h"
      },
      "execution_count": null,
      "outputs": []
    },
    {
      "cell_type": "code",
      "source": [
        "def transcribe_audio_to_text(audio_path, model):\n",
        "    \"\"\"Transcribes audio to text using OpenAI Whisper.\"\"\"\n",
        "    result = model.transcribe(audio_path)\n",
        "    return result['text']"
      ],
      "metadata": {
        "id": "XE9TrdNINLTs"
      },
      "execution_count": null,
      "outputs": []
    },
    {
      "cell_type": "code",
      "source": [
        "def process_videos(video_paths, output_dir, model):\n",
        "    \"\"\"Processes each video to convert it to text.\"\"\"\n",
        "\n",
        "    for video_path in video_paths:\n",
        "        video_filename = os.path.basename(video_path)\n",
        "        video_name, _ = os.path.splitext(video_filename)\n",
        "\n",
        "        output_subdir = os.path.join(output_dir, video_name)\n",
        "        os.makedirs(output_subdir, exist_ok=True)\n",
        "\n",
        "        audio_path = os.path.join(output_subdir, video_name + '.wav')\n",
        "        text_path = os.path.join(output_subdir, video_name + '.txt')\n",
        "\n",
        "        print(f\"\\nProcessing video: {video_path}\")\n",
        "\n",
        "        # Convert video to audio\n",
        "        convert_video_to_audio(video_path, audio_path)\n",
        "\n",
        "        # Convert audio to text\n",
        "        text = transcribe_audio_to_text(audio_path, model)\n",
        "\n",
        "        # Save text to file\n",
        "        with open(text_path, 'w') as text_file:\n",
        "            text_file.write(text)\n",
        "\n",
        "        print(f\"Finished processing video: {video_path}\")\n",
        "        print(f\"Saved the transcripts to : {text_path}\")\n"
      ],
      "metadata": {
        "id": "TOCqku0GNOQU"
      },
      "execution_count": null,
      "outputs": []
    },
    {
      "cell_type": "code",
      "source": [
        "\n",
        "output_dir =  OUTPUTS_DIR\n",
        "\n",
        "print(f'\\nStarting the video to text process...\\n')\n",
        "\n",
        "# Load the Whisper model\n",
        "model = whisper.load_model(ASR_MODEL_NAME)\n",
        "\n",
        "process_videos(video_paths, output_dir, model)\n"
      ],
      "metadata": {
        "id": "1s_fimOzNC_h"
      },
      "execution_count": null,
      "outputs": []
    },
    {
      "cell_type": "markdown",
      "source": [
        "Ouputs will be saved to your drive folder."
      ],
      "metadata": {
        "id": "wj9Pn-JHVxs2"
      }
    },
    {
      "cell_type": "code",
      "source": [],
      "metadata": {
        "id": "pMQtiqhYV1MA"
      },
      "execution_count": null,
      "outputs": []
    }
  ]
}